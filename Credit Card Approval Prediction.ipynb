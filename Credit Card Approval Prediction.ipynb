{
 "cells": [
  {
   "cell_type": "markdown",
   "metadata": {},
   "source": [
    "## Importing Libraries"
   ]
  },
  {
   "cell_type": "code",
   "execution_count": 1,
   "metadata": {},
   "outputs": [],
   "source": [
    "import pandas as pd\n",
    "import numpy as np"
   ]
  },
  {
   "cell_type": "markdown",
   "metadata": {},
   "source": [
    "## Importing Datasets"
   ]
  },
  {
   "cell_type": "code",
   "execution_count": 2,
   "metadata": {},
   "outputs": [],
   "source": [
    "application_record = pd.read_csv('data/Credit Card Approval Prediction/application_record.csv')\n",
    "credit_record = pd.read_csv('data/Credit Card Approval Prediction/credit_record.csv')"
   ]
  },
  {
   "cell_type": "code",
   "execution_count": 3,
   "metadata": {},
   "outputs": [
    {
     "data": {
      "text/plain": "             ID CODE_GENDER FLAG_OWN_CAR FLAG_OWN_REALTY  CNT_CHILDREN  \\\n0       5008804           M            Y               Y             0   \n1       5008805           M            Y               Y             0   \n2       5008806           M            Y               Y             0   \n3       5008808           F            N               Y             0   \n4       5008809           F            N               Y             0   \n...         ...         ...          ...             ...           ...   \n438552  6840104           M            N               Y             0   \n438553  6840222           F            N               N             0   \n438554  6841878           F            N               N             0   \n438555  6842765           F            N               Y             0   \n438556  6842885           F            N               Y             0   \n\n        AMT_INCOME_TOTAL      NAME_INCOME_TYPE            NAME_EDUCATION_TYPE  \\\n0               427500.0               Working               Higher education   \n1               427500.0               Working               Higher education   \n2               112500.0               Working  Secondary / secondary special   \n3               270000.0  Commercial associate  Secondary / secondary special   \n4               270000.0  Commercial associate  Secondary / secondary special   \n...                  ...                   ...                            ...   \n438552          135000.0             Pensioner  Secondary / secondary special   \n438553          103500.0               Working  Secondary / secondary special   \n438554           54000.0  Commercial associate               Higher education   \n438555           72000.0             Pensioner  Secondary / secondary special   \n438556          121500.0               Working  Secondary / secondary special   \n\n          NAME_FAMILY_STATUS  NAME_HOUSING_TYPE  DAYS_BIRTH  DAYS_EMPLOYED  \\\n0             Civil marriage   Rented apartment      -12005          -4542   \n1             Civil marriage   Rented apartment      -12005          -4542   \n2                    Married  House / apartment      -21474          -1134   \n3       Single / not married  House / apartment      -19110          -3051   \n4       Single / not married  House / apartment      -19110          -3051   \n...                      ...                ...         ...            ...   \n438552             Separated  House / apartment      -22717         365243   \n438553  Single / not married  House / apartment      -15939          -3007   \n438554  Single / not married       With parents       -8169           -372   \n438555               Married  House / apartment      -21673         365243   \n438556               Married  House / apartment      -18858          -1201   \n\n        FLAG_MOBIL  FLAG_WORK_PHONE  FLAG_PHONE  FLAG_EMAIL OCCUPATION_TYPE  \\\n0                1                1           0           0             NaN   \n1                1                1           0           0             NaN   \n2                1                0           0           0  Security staff   \n3                1                0           1           1     Sales staff   \n4                1                0           1           1     Sales staff   \n...            ...              ...         ...         ...             ...   \n438552           1                0           0           0             NaN   \n438553           1                0           0           0        Laborers   \n438554           1                1           0           0     Sales staff   \n438555           1                0           0           0             NaN   \n438556           1                0           1           0     Sales staff   \n\n        CNT_FAM_MEMBERS  \n0                   2.0  \n1                   2.0  \n2                   2.0  \n3                   1.0  \n4                   1.0  \n...                 ...  \n438552              1.0  \n438553              1.0  \n438554              1.0  \n438555              2.0  \n438556              2.0  \n\n[438557 rows x 18 columns]",
      "text/html": "<div>\n<style scoped>\n    .dataframe tbody tr th:only-of-type {\n        vertical-align: middle;\n    }\n\n    .dataframe tbody tr th {\n        vertical-align: top;\n    }\n\n    .dataframe thead th {\n        text-align: right;\n    }\n</style>\n<table border=\"1\" class=\"dataframe\">\n  <thead>\n    <tr style=\"text-align: right;\">\n      <th></th>\n      <th>ID</th>\n      <th>CODE_GENDER</th>\n      <th>FLAG_OWN_CAR</th>\n      <th>FLAG_OWN_REALTY</th>\n      <th>CNT_CHILDREN</th>\n      <th>AMT_INCOME_TOTAL</th>\n      <th>NAME_INCOME_TYPE</th>\n      <th>NAME_EDUCATION_TYPE</th>\n      <th>NAME_FAMILY_STATUS</th>\n      <th>NAME_HOUSING_TYPE</th>\n      <th>DAYS_BIRTH</th>\n      <th>DAYS_EMPLOYED</th>\n      <th>FLAG_MOBIL</th>\n      <th>FLAG_WORK_PHONE</th>\n      <th>FLAG_PHONE</th>\n      <th>FLAG_EMAIL</th>\n      <th>OCCUPATION_TYPE</th>\n      <th>CNT_FAM_MEMBERS</th>\n    </tr>\n  </thead>\n  <tbody>\n    <tr>\n      <th>0</th>\n      <td>5008804</td>\n      <td>M</td>\n      <td>Y</td>\n      <td>Y</td>\n      <td>0</td>\n      <td>427500.0</td>\n      <td>Working</td>\n      <td>Higher education</td>\n      <td>Civil marriage</td>\n      <td>Rented apartment</td>\n      <td>-12005</td>\n      <td>-4542</td>\n      <td>1</td>\n      <td>1</td>\n      <td>0</td>\n      <td>0</td>\n      <td>NaN</td>\n      <td>2.0</td>\n    </tr>\n    <tr>\n      <th>1</th>\n      <td>5008805</td>\n      <td>M</td>\n      <td>Y</td>\n      <td>Y</td>\n      <td>0</td>\n      <td>427500.0</td>\n      <td>Working</td>\n      <td>Higher education</td>\n      <td>Civil marriage</td>\n      <td>Rented apartment</td>\n      <td>-12005</td>\n      <td>-4542</td>\n      <td>1</td>\n      <td>1</td>\n      <td>0</td>\n      <td>0</td>\n      <td>NaN</td>\n      <td>2.0</td>\n    </tr>\n    <tr>\n      <th>2</th>\n      <td>5008806</td>\n      <td>M</td>\n      <td>Y</td>\n      <td>Y</td>\n      <td>0</td>\n      <td>112500.0</td>\n      <td>Working</td>\n      <td>Secondary / secondary special</td>\n      <td>Married</td>\n      <td>House / apartment</td>\n      <td>-21474</td>\n      <td>-1134</td>\n      <td>1</td>\n      <td>0</td>\n      <td>0</td>\n      <td>0</td>\n      <td>Security staff</td>\n      <td>2.0</td>\n    </tr>\n    <tr>\n      <th>3</th>\n      <td>5008808</td>\n      <td>F</td>\n      <td>N</td>\n      <td>Y</td>\n      <td>0</td>\n      <td>270000.0</td>\n      <td>Commercial associate</td>\n      <td>Secondary / secondary special</td>\n      <td>Single / not married</td>\n      <td>House / apartment</td>\n      <td>-19110</td>\n      <td>-3051</td>\n      <td>1</td>\n      <td>0</td>\n      <td>1</td>\n      <td>1</td>\n      <td>Sales staff</td>\n      <td>1.0</td>\n    </tr>\n    <tr>\n      <th>4</th>\n      <td>5008809</td>\n      <td>F</td>\n      <td>N</td>\n      <td>Y</td>\n      <td>0</td>\n      <td>270000.0</td>\n      <td>Commercial associate</td>\n      <td>Secondary / secondary special</td>\n      <td>Single / not married</td>\n      <td>House / apartment</td>\n      <td>-19110</td>\n      <td>-3051</td>\n      <td>1</td>\n      <td>0</td>\n      <td>1</td>\n      <td>1</td>\n      <td>Sales staff</td>\n      <td>1.0</td>\n    </tr>\n    <tr>\n      <th>...</th>\n      <td>...</td>\n      <td>...</td>\n      <td>...</td>\n      <td>...</td>\n      <td>...</td>\n      <td>...</td>\n      <td>...</td>\n      <td>...</td>\n      <td>...</td>\n      <td>...</td>\n      <td>...</td>\n      <td>...</td>\n      <td>...</td>\n      <td>...</td>\n      <td>...</td>\n      <td>...</td>\n      <td>...</td>\n      <td>...</td>\n    </tr>\n    <tr>\n      <th>438552</th>\n      <td>6840104</td>\n      <td>M</td>\n      <td>N</td>\n      <td>Y</td>\n      <td>0</td>\n      <td>135000.0</td>\n      <td>Pensioner</td>\n      <td>Secondary / secondary special</td>\n      <td>Separated</td>\n      <td>House / apartment</td>\n      <td>-22717</td>\n      <td>365243</td>\n      <td>1</td>\n      <td>0</td>\n      <td>0</td>\n      <td>0</td>\n      <td>NaN</td>\n      <td>1.0</td>\n    </tr>\n    <tr>\n      <th>438553</th>\n      <td>6840222</td>\n      <td>F</td>\n      <td>N</td>\n      <td>N</td>\n      <td>0</td>\n      <td>103500.0</td>\n      <td>Working</td>\n      <td>Secondary / secondary special</td>\n      <td>Single / not married</td>\n      <td>House / apartment</td>\n      <td>-15939</td>\n      <td>-3007</td>\n      <td>1</td>\n      <td>0</td>\n      <td>0</td>\n      <td>0</td>\n      <td>Laborers</td>\n      <td>1.0</td>\n    </tr>\n    <tr>\n      <th>438554</th>\n      <td>6841878</td>\n      <td>F</td>\n      <td>N</td>\n      <td>N</td>\n      <td>0</td>\n      <td>54000.0</td>\n      <td>Commercial associate</td>\n      <td>Higher education</td>\n      <td>Single / not married</td>\n      <td>With parents</td>\n      <td>-8169</td>\n      <td>-372</td>\n      <td>1</td>\n      <td>1</td>\n      <td>0</td>\n      <td>0</td>\n      <td>Sales staff</td>\n      <td>1.0</td>\n    </tr>\n    <tr>\n      <th>438555</th>\n      <td>6842765</td>\n      <td>F</td>\n      <td>N</td>\n      <td>Y</td>\n      <td>0</td>\n      <td>72000.0</td>\n      <td>Pensioner</td>\n      <td>Secondary / secondary special</td>\n      <td>Married</td>\n      <td>House / apartment</td>\n      <td>-21673</td>\n      <td>365243</td>\n      <td>1</td>\n      <td>0</td>\n      <td>0</td>\n      <td>0</td>\n      <td>NaN</td>\n      <td>2.0</td>\n    </tr>\n    <tr>\n      <th>438556</th>\n      <td>6842885</td>\n      <td>F</td>\n      <td>N</td>\n      <td>Y</td>\n      <td>0</td>\n      <td>121500.0</td>\n      <td>Working</td>\n      <td>Secondary / secondary special</td>\n      <td>Married</td>\n      <td>House / apartment</td>\n      <td>-18858</td>\n      <td>-1201</td>\n      <td>1</td>\n      <td>0</td>\n      <td>1</td>\n      <td>0</td>\n      <td>Sales staff</td>\n      <td>2.0</td>\n    </tr>\n  </tbody>\n</table>\n<p>438557 rows × 18 columns</p>\n</div>"
     },
     "execution_count": 3,
     "metadata": {},
     "output_type": "execute_result"
    }
   ],
   "source": [
    "application_record"
   ]
  },
  {
   "cell_type": "code",
   "execution_count": 4,
   "metadata": {},
   "outputs": [
    {
     "data": {
      "text/plain": "              ID  MONTHS_BALANCE STATUS\n0        5001711               0      X\n1        5001711              -1      0\n2        5001711              -2      0\n3        5001711              -3      0\n4        5001712               0      C\n...          ...             ...    ...\n1048570  5150487             -25      C\n1048571  5150487             -26      C\n1048572  5150487             -27      C\n1048573  5150487             -28      C\n1048574  5150487             -29      C\n\n[1048575 rows x 3 columns]",
      "text/html": "<div>\n<style scoped>\n    .dataframe tbody tr th:only-of-type {\n        vertical-align: middle;\n    }\n\n    .dataframe tbody tr th {\n        vertical-align: top;\n    }\n\n    .dataframe thead th {\n        text-align: right;\n    }\n</style>\n<table border=\"1\" class=\"dataframe\">\n  <thead>\n    <tr style=\"text-align: right;\">\n      <th></th>\n      <th>ID</th>\n      <th>MONTHS_BALANCE</th>\n      <th>STATUS</th>\n    </tr>\n  </thead>\n  <tbody>\n    <tr>\n      <th>0</th>\n      <td>5001711</td>\n      <td>0</td>\n      <td>X</td>\n    </tr>\n    <tr>\n      <th>1</th>\n      <td>5001711</td>\n      <td>-1</td>\n      <td>0</td>\n    </tr>\n    <tr>\n      <th>2</th>\n      <td>5001711</td>\n      <td>-2</td>\n      <td>0</td>\n    </tr>\n    <tr>\n      <th>3</th>\n      <td>5001711</td>\n      <td>-3</td>\n      <td>0</td>\n    </tr>\n    <tr>\n      <th>4</th>\n      <td>5001712</td>\n      <td>0</td>\n      <td>C</td>\n    </tr>\n    <tr>\n      <th>...</th>\n      <td>...</td>\n      <td>...</td>\n      <td>...</td>\n    </tr>\n    <tr>\n      <th>1048570</th>\n      <td>5150487</td>\n      <td>-25</td>\n      <td>C</td>\n    </tr>\n    <tr>\n      <th>1048571</th>\n      <td>5150487</td>\n      <td>-26</td>\n      <td>C</td>\n    </tr>\n    <tr>\n      <th>1048572</th>\n      <td>5150487</td>\n      <td>-27</td>\n      <td>C</td>\n    </tr>\n    <tr>\n      <th>1048573</th>\n      <td>5150487</td>\n      <td>-28</td>\n      <td>C</td>\n    </tr>\n    <tr>\n      <th>1048574</th>\n      <td>5150487</td>\n      <td>-29</td>\n      <td>C</td>\n    </tr>\n  </tbody>\n</table>\n<p>1048575 rows × 3 columns</p>\n</div>"
     },
     "execution_count": 4,
     "metadata": {},
     "output_type": "execute_result"
    }
   ],
   "source": [
    "credit_record"
   ]
  },
  {
   "cell_type": "markdown",
   "source": [
    "## Creating The Target Column"
   ],
   "metadata": {
    "collapsed": false
   }
  },
  {
   "cell_type": "code",
   "execution_count": 5,
   "outputs": [],
   "source": [
    "# Replace X,C values with 0 as they are identified as Good clients\n",
    "credit_record.replace(['X','C'], 0,inplace=True)"
   ],
   "metadata": {
    "collapsed": false
   }
  },
  {
   "cell_type": "code",
   "execution_count": 6,
   "outputs": [],
   "source": [
    "credit_record.STATUS = pd.to_numeric(credit_record.STATUS)"
   ],
   "metadata": {
    "collapsed": false
   }
  },
  {
   "cell_type": "code",
   "execution_count": 7,
   "outputs": [],
   "source": [
    "# Searching for customers who have at least one late month\n",
    "drop_ls = []\n",
    "for i in range(len(credit_record)):\n",
    "    if credit_record.STATUS[i] != 0:\n",
    "        drop_ls.append(credit_record.ID[i])"
   ],
   "metadata": {
    "collapsed": false
   }
  },
  {
   "cell_type": "code",
   "execution_count": 8,
   "outputs": [
    {
     "data": {
      "text/plain": "14194"
     },
     "execution_count": 8,
     "metadata": {},
     "output_type": "execute_result"
    }
   ],
   "source": [
    "len(drop_ls)"
   ],
   "metadata": {
    "collapsed": false
   }
  },
  {
   "cell_type": "code",
   "execution_count": 9,
   "outputs": [],
   "source": [
    "# Changing the STATUS of any client with at least one late month to 1\n",
    "for i in range(len(credit_record)):\n",
    "        if credit_record.ID[i] in drop_ls:\n",
    "            credit_record.STATUS[i] = 1"
   ],
   "metadata": {
    "collapsed": false
   }
  },
  {
   "cell_type": "code",
   "execution_count": 10,
   "outputs": [
    {
     "data": {
      "text/plain": "0    904764\n1    143811\nName: STATUS, dtype: int64"
     },
     "execution_count": 10,
     "metadata": {},
     "output_type": "execute_result"
    }
   ],
   "source": [
    "credit_record.STATUS.value_counts()"
   ],
   "metadata": {
    "collapsed": false
   }
  },
  {
   "cell_type": "code",
   "execution_count": 11,
   "outputs": [
    {
     "data": {
      "text/plain": "              ID  MONTHS_BALANCE  STATUS\n0        5001711               0       0\n1        5001711              -1       0\n2        5001711              -2       0\n3        5001711              -3       0\n4        5001712               0       0\n...          ...             ...     ...\n1048570  5150487             -25       0\n1048571  5150487             -26       0\n1048572  5150487             -27       0\n1048573  5150487             -28       0\n1048574  5150487             -29       0\n\n[1048575 rows x 3 columns]",
      "text/html": "<div>\n<style scoped>\n    .dataframe tbody tr th:only-of-type {\n        vertical-align: middle;\n    }\n\n    .dataframe tbody tr th {\n        vertical-align: top;\n    }\n\n    .dataframe thead th {\n        text-align: right;\n    }\n</style>\n<table border=\"1\" class=\"dataframe\">\n  <thead>\n    <tr style=\"text-align: right;\">\n      <th></th>\n      <th>ID</th>\n      <th>MONTHS_BALANCE</th>\n      <th>STATUS</th>\n    </tr>\n  </thead>\n  <tbody>\n    <tr>\n      <th>0</th>\n      <td>5001711</td>\n      <td>0</td>\n      <td>0</td>\n    </tr>\n    <tr>\n      <th>1</th>\n      <td>5001711</td>\n      <td>-1</td>\n      <td>0</td>\n    </tr>\n    <tr>\n      <th>2</th>\n      <td>5001711</td>\n      <td>-2</td>\n      <td>0</td>\n    </tr>\n    <tr>\n      <th>3</th>\n      <td>5001711</td>\n      <td>-3</td>\n      <td>0</td>\n    </tr>\n    <tr>\n      <th>4</th>\n      <td>5001712</td>\n      <td>0</td>\n      <td>0</td>\n    </tr>\n    <tr>\n      <th>...</th>\n      <td>...</td>\n      <td>...</td>\n      <td>...</td>\n    </tr>\n    <tr>\n      <th>1048570</th>\n      <td>5150487</td>\n      <td>-25</td>\n      <td>0</td>\n    </tr>\n    <tr>\n      <th>1048571</th>\n      <td>5150487</td>\n      <td>-26</td>\n      <td>0</td>\n    </tr>\n    <tr>\n      <th>1048572</th>\n      <td>5150487</td>\n      <td>-27</td>\n      <td>0</td>\n    </tr>\n    <tr>\n      <th>1048573</th>\n      <td>5150487</td>\n      <td>-28</td>\n      <td>0</td>\n    </tr>\n    <tr>\n      <th>1048574</th>\n      <td>5150487</td>\n      <td>-29</td>\n      <td>0</td>\n    </tr>\n  </tbody>\n</table>\n<p>1048575 rows × 3 columns</p>\n</div>"
     },
     "execution_count": 11,
     "metadata": {},
     "output_type": "execute_result"
    }
   ],
   "source": [
    "credit_record.drop_duplicates(inplace=True)\n",
    "credit_record"
   ],
   "metadata": {
    "collapsed": false
   }
  },
  {
   "cell_type": "markdown",
   "metadata": {},
   "source": [
    "## Merging Datasets"
   ]
  },
  {
   "cell_type": "code",
   "execution_count": 12,
   "metadata": {},
   "outputs": [
    {
     "name": "stdout",
     "output_type": "stream",
     "text": [
      "No. of IDs in application_record = 438557 No. of IDs in credit_record = 1048575\n"
     ]
    }
   ],
   "source": [
    "print(f'No. of IDs in application_record = {len(application_record.ID)} No. of IDs in credit_record = {len(credit_record.ID)}')"
   ]
  },
  {
   "cell_type": "code",
   "execution_count": 13,
   "metadata": {},
   "outputs": [],
   "source": [
    "dataset = application_record.merge(credit_record, on=['ID'], how='inner')\n",
    " # on to choose which column to merger on\n",
    " # How to get merge only the intersection between them"
   ]
  },
  {
   "cell_type": "code",
   "execution_count": 14,
   "metadata": {},
   "outputs": [],
   "source": [
    "dataset.drop(['ID'],inplace=True,axis=1)"
   ]
  },
  {
   "cell_type": "code",
   "execution_count": 15,
   "outputs": [
    {
     "data": {
      "text/plain": "412393"
     },
     "execution_count": 15,
     "metadata": {},
     "output_type": "execute_result"
    }
   ],
   "source": [
    "dataset.duplicated().sum()"
   ],
   "metadata": {
    "collapsed": false
   }
  },
  {
   "cell_type": "code",
   "execution_count": 16,
   "outputs": [],
   "source": [
    "dataset.drop_duplicates(inplace=True)"
   ],
   "metadata": {
    "collapsed": false
   }
  },
  {
   "cell_type": "code",
   "execution_count": 17,
   "metadata": {},
   "outputs": [
    {
     "data": {
      "text/plain": "       CODE_GENDER FLAG_OWN_CAR FLAG_OWN_REALTY  CNT_CHILDREN  \\\n0                M            Y               Y             0   \n1                M            Y               Y             0   \n2                M            Y               Y             0   \n3                M            Y               Y             0   \n4                M            Y               Y             0   \n...            ...          ...             ...           ...   \n777710           M            N               Y             0   \n777711           M            N               Y             0   \n777712           M            N               Y             0   \n777713           M            N               Y             0   \n777714           M            N               Y             0   \n\n        AMT_INCOME_TOTAL NAME_INCOME_TYPE            NAME_EDUCATION_TYPE  \\\n0               427500.0          Working               Higher education   \n1               427500.0          Working               Higher education   \n2               427500.0          Working               Higher education   \n3               427500.0          Working               Higher education   \n4               427500.0          Working               Higher education   \n...                  ...              ...                            ...   \n777710          112500.0          Working  Secondary / secondary special   \n777711          112500.0          Working  Secondary / secondary special   \n777712          112500.0          Working  Secondary / secondary special   \n777713          112500.0          Working  Secondary / secondary special   \n777714          112500.0          Working  Secondary / secondary special   \n\n          NAME_FAMILY_STATUS NAME_HOUSING_TYPE  DAYS_BIRTH  DAYS_EMPLOYED  \\\n0             Civil marriage  Rented apartment      -12005          -4542   \n1             Civil marriage  Rented apartment      -12005          -4542   \n2             Civil marriage  Rented apartment      -12005          -4542   \n3             Civil marriage  Rented apartment      -12005          -4542   \n4             Civil marriage  Rented apartment      -12005          -4542   \n...                      ...               ...         ...            ...   \n777710  Single / not married  Rented apartment       -9188          -1193   \n777711  Single / not married  Rented apartment       -9188          -1193   \n777712  Single / not married  Rented apartment       -9188          -1193   \n777713  Single / not married  Rented apartment       -9188          -1193   \n777714  Single / not married  Rented apartment       -9188          -1193   \n\n        FLAG_MOBIL  FLAG_WORK_PHONE  FLAG_PHONE  FLAG_EMAIL OCCUPATION_TYPE  \\\n0                1                1           0           0             NaN   \n1                1                1           0           0             NaN   \n2                1                1           0           0             NaN   \n3                1                1           0           0             NaN   \n4                1                1           0           0             NaN   \n...            ...              ...         ...         ...             ...   \n777710           1                0           0           0        Laborers   \n777711           1                0           0           0        Laborers   \n777712           1                0           0           0        Laborers   \n777713           1                0           0           0        Laborers   \n777714           1                0           0           0        Laborers   \n\n        CNT_FAM_MEMBERS  MONTHS_BALANCE  STATUS  \n0                   2.0               0       1  \n1                   2.0              -1       1  \n2                   2.0              -2       1  \n3                   2.0              -3       1  \n4                   2.0              -4       1  \n...                 ...             ...     ...  \n777710              1.0              -9       1  \n777711              1.0             -10       1  \n777712              1.0             -11       1  \n777713              1.0             -12       1  \n777714              1.0             -13       1  \n\n[365322 rows x 19 columns]",
      "text/html": "<div>\n<style scoped>\n    .dataframe tbody tr th:only-of-type {\n        vertical-align: middle;\n    }\n\n    .dataframe tbody tr th {\n        vertical-align: top;\n    }\n\n    .dataframe thead th {\n        text-align: right;\n    }\n</style>\n<table border=\"1\" class=\"dataframe\">\n  <thead>\n    <tr style=\"text-align: right;\">\n      <th></th>\n      <th>CODE_GENDER</th>\n      <th>FLAG_OWN_CAR</th>\n      <th>FLAG_OWN_REALTY</th>\n      <th>CNT_CHILDREN</th>\n      <th>AMT_INCOME_TOTAL</th>\n      <th>NAME_INCOME_TYPE</th>\n      <th>NAME_EDUCATION_TYPE</th>\n      <th>NAME_FAMILY_STATUS</th>\n      <th>NAME_HOUSING_TYPE</th>\n      <th>DAYS_BIRTH</th>\n      <th>DAYS_EMPLOYED</th>\n      <th>FLAG_MOBIL</th>\n      <th>FLAG_WORK_PHONE</th>\n      <th>FLAG_PHONE</th>\n      <th>FLAG_EMAIL</th>\n      <th>OCCUPATION_TYPE</th>\n      <th>CNT_FAM_MEMBERS</th>\n      <th>MONTHS_BALANCE</th>\n      <th>STATUS</th>\n    </tr>\n  </thead>\n  <tbody>\n    <tr>\n      <th>0</th>\n      <td>M</td>\n      <td>Y</td>\n      <td>Y</td>\n      <td>0</td>\n      <td>427500.0</td>\n      <td>Working</td>\n      <td>Higher education</td>\n      <td>Civil marriage</td>\n      <td>Rented apartment</td>\n      <td>-12005</td>\n      <td>-4542</td>\n      <td>1</td>\n      <td>1</td>\n      <td>0</td>\n      <td>0</td>\n      <td>NaN</td>\n      <td>2.0</td>\n      <td>0</td>\n      <td>1</td>\n    </tr>\n    <tr>\n      <th>1</th>\n      <td>M</td>\n      <td>Y</td>\n      <td>Y</td>\n      <td>0</td>\n      <td>427500.0</td>\n      <td>Working</td>\n      <td>Higher education</td>\n      <td>Civil marriage</td>\n      <td>Rented apartment</td>\n      <td>-12005</td>\n      <td>-4542</td>\n      <td>1</td>\n      <td>1</td>\n      <td>0</td>\n      <td>0</td>\n      <td>NaN</td>\n      <td>2.0</td>\n      <td>-1</td>\n      <td>1</td>\n    </tr>\n    <tr>\n      <th>2</th>\n      <td>M</td>\n      <td>Y</td>\n      <td>Y</td>\n      <td>0</td>\n      <td>427500.0</td>\n      <td>Working</td>\n      <td>Higher education</td>\n      <td>Civil marriage</td>\n      <td>Rented apartment</td>\n      <td>-12005</td>\n      <td>-4542</td>\n      <td>1</td>\n      <td>1</td>\n      <td>0</td>\n      <td>0</td>\n      <td>NaN</td>\n      <td>2.0</td>\n      <td>-2</td>\n      <td>1</td>\n    </tr>\n    <tr>\n      <th>3</th>\n      <td>M</td>\n      <td>Y</td>\n      <td>Y</td>\n      <td>0</td>\n      <td>427500.0</td>\n      <td>Working</td>\n      <td>Higher education</td>\n      <td>Civil marriage</td>\n      <td>Rented apartment</td>\n      <td>-12005</td>\n      <td>-4542</td>\n      <td>1</td>\n      <td>1</td>\n      <td>0</td>\n      <td>0</td>\n      <td>NaN</td>\n      <td>2.0</td>\n      <td>-3</td>\n      <td>1</td>\n    </tr>\n    <tr>\n      <th>4</th>\n      <td>M</td>\n      <td>Y</td>\n      <td>Y</td>\n      <td>0</td>\n      <td>427500.0</td>\n      <td>Working</td>\n      <td>Higher education</td>\n      <td>Civil marriage</td>\n      <td>Rented apartment</td>\n      <td>-12005</td>\n      <td>-4542</td>\n      <td>1</td>\n      <td>1</td>\n      <td>0</td>\n      <td>0</td>\n      <td>NaN</td>\n      <td>2.0</td>\n      <td>-4</td>\n      <td>1</td>\n    </tr>\n    <tr>\n      <th>...</th>\n      <td>...</td>\n      <td>...</td>\n      <td>...</td>\n      <td>...</td>\n      <td>...</td>\n      <td>...</td>\n      <td>...</td>\n      <td>...</td>\n      <td>...</td>\n      <td>...</td>\n      <td>...</td>\n      <td>...</td>\n      <td>...</td>\n      <td>...</td>\n      <td>...</td>\n      <td>...</td>\n      <td>...</td>\n      <td>...</td>\n      <td>...</td>\n    </tr>\n    <tr>\n      <th>777710</th>\n      <td>M</td>\n      <td>N</td>\n      <td>Y</td>\n      <td>0</td>\n      <td>112500.0</td>\n      <td>Working</td>\n      <td>Secondary / secondary special</td>\n      <td>Single / not married</td>\n      <td>Rented apartment</td>\n      <td>-9188</td>\n      <td>-1193</td>\n      <td>1</td>\n      <td>0</td>\n      <td>0</td>\n      <td>0</td>\n      <td>Laborers</td>\n      <td>1.0</td>\n      <td>-9</td>\n      <td>1</td>\n    </tr>\n    <tr>\n      <th>777711</th>\n      <td>M</td>\n      <td>N</td>\n      <td>Y</td>\n      <td>0</td>\n      <td>112500.0</td>\n      <td>Working</td>\n      <td>Secondary / secondary special</td>\n      <td>Single / not married</td>\n      <td>Rented apartment</td>\n      <td>-9188</td>\n      <td>-1193</td>\n      <td>1</td>\n      <td>0</td>\n      <td>0</td>\n      <td>0</td>\n      <td>Laborers</td>\n      <td>1.0</td>\n      <td>-10</td>\n      <td>1</td>\n    </tr>\n    <tr>\n      <th>777712</th>\n      <td>M</td>\n      <td>N</td>\n      <td>Y</td>\n      <td>0</td>\n      <td>112500.0</td>\n      <td>Working</td>\n      <td>Secondary / secondary special</td>\n      <td>Single / not married</td>\n      <td>Rented apartment</td>\n      <td>-9188</td>\n      <td>-1193</td>\n      <td>1</td>\n      <td>0</td>\n      <td>0</td>\n      <td>0</td>\n      <td>Laborers</td>\n      <td>1.0</td>\n      <td>-11</td>\n      <td>1</td>\n    </tr>\n    <tr>\n      <th>777713</th>\n      <td>M</td>\n      <td>N</td>\n      <td>Y</td>\n      <td>0</td>\n      <td>112500.0</td>\n      <td>Working</td>\n      <td>Secondary / secondary special</td>\n      <td>Single / not married</td>\n      <td>Rented apartment</td>\n      <td>-9188</td>\n      <td>-1193</td>\n      <td>1</td>\n      <td>0</td>\n      <td>0</td>\n      <td>0</td>\n      <td>Laborers</td>\n      <td>1.0</td>\n      <td>-12</td>\n      <td>1</td>\n    </tr>\n    <tr>\n      <th>777714</th>\n      <td>M</td>\n      <td>N</td>\n      <td>Y</td>\n      <td>0</td>\n      <td>112500.0</td>\n      <td>Working</td>\n      <td>Secondary / secondary special</td>\n      <td>Single / not married</td>\n      <td>Rented apartment</td>\n      <td>-9188</td>\n      <td>-1193</td>\n      <td>1</td>\n      <td>0</td>\n      <td>0</td>\n      <td>0</td>\n      <td>Laborers</td>\n      <td>1.0</td>\n      <td>-13</td>\n      <td>1</td>\n    </tr>\n  </tbody>\n</table>\n<p>365322 rows × 19 columns</p>\n</div>"
     },
     "execution_count": 17,
     "metadata": {},
     "output_type": "execute_result"
    }
   ],
   "source": [
    "dataset"
   ]
  },
  {
   "cell_type": "markdown",
   "metadata": {},
   "source": [
    "## Getting Data's Information and Description"
   ]
  },
  {
   "cell_type": "code",
   "execution_count": 18,
   "metadata": {},
   "outputs": [
    {
     "name": "stdout",
     "output_type": "stream",
     "text": [
      "<class 'pandas.core.frame.DataFrame'>\n",
      "Int64Index: 365322 entries, 0 to 777714\n",
      "Data columns (total 19 columns):\n",
      " #   Column               Non-Null Count   Dtype  \n",
      "---  ------               --------------   -----  \n",
      " 0   CODE_GENDER          365322 non-null  object \n",
      " 1   FLAG_OWN_CAR         365322 non-null  object \n",
      " 2   FLAG_OWN_REALTY      365322 non-null  object \n",
      " 3   CNT_CHILDREN         365322 non-null  int64  \n",
      " 4   AMT_INCOME_TOTAL     365322 non-null  float64\n",
      " 5   NAME_INCOME_TYPE     365322 non-null  object \n",
      " 6   NAME_EDUCATION_TYPE  365322 non-null  object \n",
      " 7   NAME_FAMILY_STATUS   365322 non-null  object \n",
      " 8   NAME_HOUSING_TYPE    365322 non-null  object \n",
      " 9   DAYS_BIRTH           365322 non-null  int64  \n",
      " 10  DAYS_EMPLOYED        365322 non-null  int64  \n",
      " 11  FLAG_MOBIL           365322 non-null  int64  \n",
      " 12  FLAG_WORK_PHONE      365322 non-null  int64  \n",
      " 13  FLAG_PHONE           365322 non-null  int64  \n",
      " 14  FLAG_EMAIL           365322 non-null  int64  \n",
      " 15  OCCUPATION_TYPE      252192 non-null  object \n",
      " 16  CNT_FAM_MEMBERS      365322 non-null  float64\n",
      " 17  MONTHS_BALANCE       365322 non-null  int64  \n",
      " 18  STATUS               365322 non-null  int64  \n",
      "dtypes: float64(2), int64(9), object(8)\n",
      "memory usage: 55.7+ MB\n"
     ]
    }
   ],
   "source": [
    "dataset.info()"
   ]
  },
  {
   "cell_type": "code",
   "execution_count": 19,
   "metadata": {},
   "outputs": [
    {
     "data": {
      "text/plain": "        CNT_CHILDREN  AMT_INCOME_TOTAL     DAYS_BIRTH  DAYS_EMPLOYED  \\\ncount  365322.000000      3.653220e+05  365322.000000  365322.000000   \nmean        0.425742      1.848982e+05  -16161.482656   60776.306365   \nstd         0.768540      1.017316e+05    4144.182785  139028.719425   \nmin         0.000000      2.700000e+04  -25152.000000  -15713.000000   \n25%         0.000000      1.170000e+05  -19614.000000   -3208.000000   \n50%         0.000000      1.575000e+05  -15849.000000   -1566.000000   \n75%         1.000000      2.250000e+05  -12676.000000    -378.000000   \nmax        19.000000      1.575000e+06   -7489.000000  365243.000000   \n\n       FLAG_MOBIL  FLAG_WORK_PHONE     FLAG_PHONE     FLAG_EMAIL  \\\ncount    365322.0    365322.000000  365322.000000  365322.000000   \nmean          1.0         0.221878       0.294214       0.089595   \nstd           0.0         0.415510       0.455689       0.285601   \nmin           1.0         0.000000       0.000000       0.000000   \n25%           1.0         0.000000       0.000000       0.000000   \n50%           1.0         0.000000       0.000000       0.000000   \n75%           1.0         0.000000       1.000000       0.000000   \nmax           1.0         1.000000       1.000000       1.000000   \n\n       CNT_FAM_MEMBERS  MONTHS_BALANCE         STATUS  \ncount     365322.00000   365322.000000  365322.000000  \nmean           2.19825      -21.695310       0.203226  \nstd            0.92849       15.016078       0.402400  \nmin            1.00000      -60.000000       0.000000  \n25%            2.00000      -33.000000       0.000000  \n50%            2.00000      -20.000000       0.000000  \n75%            3.00000       -9.000000       0.000000  \nmax           20.00000        0.000000       1.000000  ",
      "text/html": "<div>\n<style scoped>\n    .dataframe tbody tr th:only-of-type {\n        vertical-align: middle;\n    }\n\n    .dataframe tbody tr th {\n        vertical-align: top;\n    }\n\n    .dataframe thead th {\n        text-align: right;\n    }\n</style>\n<table border=\"1\" class=\"dataframe\">\n  <thead>\n    <tr style=\"text-align: right;\">\n      <th></th>\n      <th>CNT_CHILDREN</th>\n      <th>AMT_INCOME_TOTAL</th>\n      <th>DAYS_BIRTH</th>\n      <th>DAYS_EMPLOYED</th>\n      <th>FLAG_MOBIL</th>\n      <th>FLAG_WORK_PHONE</th>\n      <th>FLAG_PHONE</th>\n      <th>FLAG_EMAIL</th>\n      <th>CNT_FAM_MEMBERS</th>\n      <th>MONTHS_BALANCE</th>\n      <th>STATUS</th>\n    </tr>\n  </thead>\n  <tbody>\n    <tr>\n      <th>count</th>\n      <td>365322.000000</td>\n      <td>3.653220e+05</td>\n      <td>365322.000000</td>\n      <td>365322.000000</td>\n      <td>365322.0</td>\n      <td>365322.000000</td>\n      <td>365322.000000</td>\n      <td>365322.000000</td>\n      <td>365322.00000</td>\n      <td>365322.000000</td>\n      <td>365322.000000</td>\n    </tr>\n    <tr>\n      <th>mean</th>\n      <td>0.425742</td>\n      <td>1.848982e+05</td>\n      <td>-16161.482656</td>\n      <td>60776.306365</td>\n      <td>1.0</td>\n      <td>0.221878</td>\n      <td>0.294214</td>\n      <td>0.089595</td>\n      <td>2.19825</td>\n      <td>-21.695310</td>\n      <td>0.203226</td>\n    </tr>\n    <tr>\n      <th>std</th>\n      <td>0.768540</td>\n      <td>1.017316e+05</td>\n      <td>4144.182785</td>\n      <td>139028.719425</td>\n      <td>0.0</td>\n      <td>0.415510</td>\n      <td>0.455689</td>\n      <td>0.285601</td>\n      <td>0.92849</td>\n      <td>15.016078</td>\n      <td>0.402400</td>\n    </tr>\n    <tr>\n      <th>min</th>\n      <td>0.000000</td>\n      <td>2.700000e+04</td>\n      <td>-25152.000000</td>\n      <td>-15713.000000</td>\n      <td>1.0</td>\n      <td>0.000000</td>\n      <td>0.000000</td>\n      <td>0.000000</td>\n      <td>1.00000</td>\n      <td>-60.000000</td>\n      <td>0.000000</td>\n    </tr>\n    <tr>\n      <th>25%</th>\n      <td>0.000000</td>\n      <td>1.170000e+05</td>\n      <td>-19614.000000</td>\n      <td>-3208.000000</td>\n      <td>1.0</td>\n      <td>0.000000</td>\n      <td>0.000000</td>\n      <td>0.000000</td>\n      <td>2.00000</td>\n      <td>-33.000000</td>\n      <td>0.000000</td>\n    </tr>\n    <tr>\n      <th>50%</th>\n      <td>0.000000</td>\n      <td>1.575000e+05</td>\n      <td>-15849.000000</td>\n      <td>-1566.000000</td>\n      <td>1.0</td>\n      <td>0.000000</td>\n      <td>0.000000</td>\n      <td>0.000000</td>\n      <td>2.00000</td>\n      <td>-20.000000</td>\n      <td>0.000000</td>\n    </tr>\n    <tr>\n      <th>75%</th>\n      <td>1.000000</td>\n      <td>2.250000e+05</td>\n      <td>-12676.000000</td>\n      <td>-378.000000</td>\n      <td>1.0</td>\n      <td>0.000000</td>\n      <td>1.000000</td>\n      <td>0.000000</td>\n      <td>3.00000</td>\n      <td>-9.000000</td>\n      <td>0.000000</td>\n    </tr>\n    <tr>\n      <th>max</th>\n      <td>19.000000</td>\n      <td>1.575000e+06</td>\n      <td>-7489.000000</td>\n      <td>365243.000000</td>\n      <td>1.0</td>\n      <td>1.000000</td>\n      <td>1.000000</td>\n      <td>1.000000</td>\n      <td>20.00000</td>\n      <td>0.000000</td>\n      <td>1.000000</td>\n    </tr>\n  </tbody>\n</table>\n</div>"
     },
     "execution_count": 19,
     "metadata": {},
     "output_type": "execute_result"
    }
   ],
   "source": [
    "dataset.describe()"
   ]
  },
  {
   "cell_type": "code",
   "execution_count": 20,
   "metadata": {},
   "outputs": [
    {
     "data": {
      "text/plain": "CODE_GENDER                 0\nFLAG_OWN_CAR                0\nFLAG_OWN_REALTY             0\nCNT_CHILDREN                0\nAMT_INCOME_TOTAL            0\nNAME_INCOME_TYPE            0\nNAME_EDUCATION_TYPE         0\nNAME_FAMILY_STATUS          0\nNAME_HOUSING_TYPE           0\nDAYS_BIRTH                  0\nDAYS_EMPLOYED               0\nFLAG_MOBIL                  0\nFLAG_WORK_PHONE             0\nFLAG_PHONE                  0\nFLAG_EMAIL                  0\nOCCUPATION_TYPE        113130\nCNT_FAM_MEMBERS             0\nMONTHS_BALANCE              0\nSTATUS                      0\ndtype: int64"
     },
     "execution_count": 20,
     "metadata": {},
     "output_type": "execute_result"
    }
   ],
   "source": [
    "dataset.isna().sum()"
   ]
  },
  {
   "cell_type": "code",
   "execution_count": 21,
   "metadata": {},
   "outputs": [
    {
     "data": {
      "text/plain": "113130"
     },
     "execution_count": 21,
     "metadata": {},
     "output_type": "execute_result"
    }
   ],
   "source": [
    "dataset.isna().sum().sum()"
   ]
  },
  {
   "cell_type": "markdown",
   "metadata": {},
   "source": [
    "### Displaying Column \"OCCUPATION_TYPE\" with NULL Values"
   ]
  },
  {
   "cell_type": "code",
   "execution_count": 22,
   "metadata": {},
   "outputs": [
    {
     "data": {
      "text/plain": "0              NaN\n1              NaN\n2              NaN\n3              NaN\n4              NaN\n            ...   \n777710    Laborers\n777711    Laborers\n777712    Laborers\n777713    Laborers\n777714    Laborers\nName: OCCUPATION_TYPE, Length: 365322, dtype: object"
     },
     "execution_count": 22,
     "metadata": {},
     "output_type": "execute_result"
    }
   ],
   "source": [
    "dataset.OCCUPATION_TYPE"
   ]
  },
  {
   "cell_type": "code",
   "execution_count": 23,
   "metadata": {},
   "outputs": [
    {
     "data": {
      "text/plain": "Laborers                 62839\nCore staff               34175\nSales staff              33786\nManagers                 31066\nDrivers                  23349\nHigh skill tech staff    14459\nMedicine staff           11937\nAccountants              11926\nSecurity staff            6851\nCooking staff             6663\nCleaning staff            5201\nPrivate service staff     2989\nLow-skill Laborers        2000\nSecretaries               1523\nWaiters/barmen staff      1272\nHR staff                   973\nIT staff                   617\nRealty agents              566\nName: OCCUPATION_TYPE, dtype: int64"
     },
     "execution_count": 23,
     "metadata": {},
     "output_type": "execute_result"
    }
   ],
   "source": [
    "dataset.OCCUPATION_TYPE.value_counts()"
   ]
  },
  {
   "cell_type": "markdown",
   "metadata": {},
   "source": [
    "### Replacing Null Values in 'OCCUPATION_TYPE' with Not Employed"
   ]
  },
  {
   "cell_type": "code",
   "execution_count": 24,
   "metadata": {},
   "outputs": [],
   "source": [
    "dataset.OCCUPATION_TYPE.replace(np.nan, 'Other', inplace = True)"
   ]
  },
  {
   "cell_type": "code",
   "execution_count": 25,
   "metadata": {},
   "outputs": [
    {
     "data": {
      "text/plain": "Other                    113130\nLaborers                  62839\nCore staff                34175\nSales staff               33786\nManagers                  31066\nDrivers                   23349\nHigh skill tech staff     14459\nMedicine staff            11937\nAccountants               11926\nSecurity staff             6851\nCooking staff              6663\nCleaning staff             5201\nPrivate service staff      2989\nLow-skill Laborers         2000\nSecretaries                1523\nWaiters/barmen staff       1272\nHR staff                    973\nIT staff                    617\nRealty agents               566\nName: OCCUPATION_TYPE, dtype: int64"
     },
     "execution_count": 25,
     "metadata": {},
     "output_type": "execute_result"
    }
   ],
   "source": [
    "dataset.OCCUPATION_TYPE.value_counts()"
   ]
  },
  {
   "cell_type": "markdown",
   "source": [
    "## Label Encoding"
   ],
   "metadata": {
    "collapsed": false
   }
  },
  {
   "cell_type": "code",
   "execution_count": 26,
   "metadata": {},
   "outputs": [],
   "source": [
    "from sklearn.preprocessing import LabelEncoder\n",
    "le = LabelEncoder()"
   ]
  },
  {
   "cell_type": "code",
   "execution_count": 27,
   "metadata": {},
   "outputs": [],
   "source": [
    "for col in dataset.columns:\n",
    "    if dataset[col].dtype == 'object':\n",
    "        dataset[col] = le.fit_transform(dataset[col])"
   ]
  },
  {
   "cell_type": "code",
   "execution_count": 28,
   "outputs": [],
   "source": [
    "dataset.drop_duplicates(inplace=True)"
   ],
   "metadata": {
    "collapsed": false
   }
  },
  {
   "cell_type": "markdown",
   "source": [
    "## Splitting the dataset"
   ],
   "metadata": {
    "collapsed": false
   }
  },
  {
   "cell_type": "code",
   "execution_count": 87,
   "outputs": [],
   "source": [
    "X = dataset.iloc[:, :-1]\n",
    "y = dataset.iloc[:,-1]"
   ],
   "metadata": {
    "collapsed": false
   }
  },
  {
   "cell_type": "code",
   "execution_count": 97,
   "metadata": {},
   "outputs": [],
   "source": [
    "from sklearn.model_selection import KFold,StratifiedKFold\n",
    "kfold = KFold(n_splits=8, shuffle=True, random_state=0)"
   ]
  },
  {
   "cell_type": "code",
   "execution_count": 98,
   "outputs": [],
   "source": [
    "for train_index, test_index in kfold.split(X,y):\n",
    "    # Split the data into train and test sets\n",
    "    X_train, X_test = X.iloc[train_index], X.iloc[test_index]\n",
    "    y_train, y_test = y.iloc[train_index], y.iloc[test_index]"
   ],
   "metadata": {
    "collapsed": false
   }
  },
  {
   "cell_type": "markdown",
   "metadata": {},
   "source": [
    "## Building Model"
   ]
  },
  {
   "cell_type": "code",
   "execution_count": 108,
   "metadata": {},
   "outputs": [
    {
     "data": {
      "text/plain": "DecisionTreeClassifier(class_weight='balanced', max_depth=48,\n                       min_samples_leaf=15, min_samples_split=48,\n                       random_state=42)"
     },
     "execution_count": 108,
     "metadata": {},
     "output_type": "execute_result"
    }
   ],
   "source": [
    "from sklearn.tree import DecisionTreeClassifier\n",
    "classifier = DecisionTreeClassifier(class_weight='balanced',max_depth=48,splitter='best',random_state=42,min_samples_split=48,min_samples_leaf=15)\n",
    "classifier.fit(X_train, y_train)"
   ]
  },
  {
   "cell_type": "code",
   "execution_count": 109,
   "outputs": [],
   "source": [
    "y_pred = classifier.predict(X_test)"
   ],
   "metadata": {
    "collapsed": false
   }
  },
  {
   "cell_type": "code",
   "execution_count": 110,
   "metadata": {},
   "outputs": [],
   "source": [
    "y_pred_train= classifier.predict(X_train)"
   ]
  },
  {
   "cell_type": "markdown",
   "source": [
    "## Calculating Scores"
   ],
   "metadata": {
    "collapsed": false
   }
  },
  {
   "cell_type": "markdown",
   "source": [
    "### Test Results"
   ],
   "metadata": {
    "collapsed": false
   }
  },
  {
   "cell_type": "code",
   "execution_count": 111,
   "metadata": {},
   "outputs": [],
   "source": [
    "from sklearn.metrics import confusion_matrix, accuracy_score, precision_score, recall_score, f1_score\n",
    "acc = accuracy_score(y_test,y_pred)\n",
    "confusion_mat = confusion_matrix(y_test,y_pred)\n",
    "pre_score = precision_score(y_test,y_pred)\n",
    "recall = recall_score(y_test,y_pred)\n",
    "f1 = f1_score(y_test,y_pred)\n",
    "specificity_test = confusion_mat[0,0] / (confusion_mat[0,0] + confusion_mat[0,1])"
   ]
  },
  {
   "cell_type": "code",
   "execution_count": 112,
   "outputs": [
    {
     "name": "stdout",
     "output_type": "stream",
     "text": [
      "Accuracy Score = 0.8524471696047301\n",
      " Confusion Matrix = [[29815  6485]\n",
      " [  253  9112]]\n",
      " Precision Score = 0.5842149131243187\n",
      " Recall Score = 0.9729845168179392\n",
      " F1 Score = 0.7300697059530485\n",
      " Specificity Test = 0.8213498622589531\n"
     ]
    }
   ],
   "source": [
    "print(f'Accuracy Score = {acc}\\n Confusion Matrix = {confusion_mat}\\n Precision Score = {pre_score}\\n Recall Score = {recall}\\n F1 Score = {f1}\\n Specificity Test = {specificity_test}')"
   ],
   "metadata": {
    "collapsed": false
   }
  },
  {
   "cell_type": "markdown",
   "source": [
    "### Train Results"
   ],
   "metadata": {
    "collapsed": false
   }
  },
  {
   "cell_type": "code",
   "execution_count": 113,
   "outputs": [],
   "source": [
    "acc_train = accuracy_score(y_train,y_pred_train)\n",
    "confusion_mat_train = confusion_matrix(y_train,y_pred_train)\n",
    "pre_score_train = precision_score(y_train,y_pred_train)\n",
    "recall_train = recall_score(y_train,y_pred_train)\n",
    "f1_train = f1_score(y_train,y_pred_train)\n",
    "specificity_train = confusion_mat_train[0,0] / (confusion_mat_train[0,0] + confusion_mat_train[0,1])"
   ],
   "metadata": {
    "collapsed": false
   }
  },
  {
   "cell_type": "code",
   "execution_count": 114,
   "outputs": [
    {
     "name": "stdout",
     "output_type": "stream",
     "text": [
      "Accuracy Score = 0.8615203170898807\n",
      " Confusion Matrix = [[211329  43450]\n",
      " [   816  64062]]\n",
      " Precision Score = 0.5958590668948582\n",
      " Recall Score = 0.9874225469342458\n",
      " F1 Score = 0.7432217646035153\n",
      " Specificity Test = 0.8294600418401831\n"
     ]
    }
   ],
   "source": [
    "print(f'Accuracy Score = {acc_train}\\n Confusion Matrix = {confusion_mat_train}\\n Precision Score = {pre_score_train}\\n Recall Score = {recall_train}\\n F1 Score = {f1_train}\\n Specificity Test = {specificity_train}')"
   ],
   "metadata": {
    "collapsed": false
   }
  },
  {
   "cell_type": "code",
   "execution_count": null,
   "outputs": [],
   "source": [],
   "metadata": {
    "collapsed": false
   }
  }
 ],
 "metadata": {
  "kernelspec": {
   "display_name": "Python 3 (ipykernel)",
   "language": "python",
   "name": "python3"
  },
  "language_info": {
   "codemirror_mode": {
    "name": "ipython",
    "version": 3
   },
   "file_extension": ".py",
   "mimetype": "text/x-python",
   "name": "python",
   "nbconvert_exporter": "python",
   "pygments_lexer": "ipython3",
   "version": "3.9.12"
  }
 },
 "nbformat": 4,
 "nbformat_minor": 1
}
